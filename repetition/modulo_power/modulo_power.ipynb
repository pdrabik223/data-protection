{
 "cells": [
  {
   "cell_type": "code",
   "execution_count": 2,
   "metadata": {},
   "outputs": [],
   "source": [
    " from numpy import uint64"
   ]
  },
  {
   "cell_type": "markdown",
   "metadata": {},
   "source": [
    "Operation `x^y mod z`  is widely used in cryptographic calculations, unfortunately straightforward interpretation requires manipulation of big numbers, that requires a lot of computation space and time. To fight that need operation `x^y mod x` was optimized using  several procedures."
   ]
  },
  {
   "cell_type": "code",
   "execution_count": 3,
   "metadata": {},
   "outputs": [],
   "source": [
    "\n",
    "def mod_power(base:uint64,exp:uint64,mod:uint64)->uint64:\n",
    "    # 1. obtain binary representation of a exponent\n",
    "    #    used order small endian\n",
    "    bits = [int(v) for v in bin(exp)[:1:-1]]\n",
    "\n",
    "    # 2. calculate all powers of base up to length of bits\n",
    "    power_tree = [base % mod, (base * base) % mod]\n",
    "    for id, bit in enumerate(bits[2:]):\n",
    "        power_tree.append((power_tree[-1]*power_tree[-1]) % mod)\n",
    "            \n",
    "    \n",
    "    # 3. multiply all partial powers from power tree, if bit of exponent is == 1     \n",
    "    result = 1\n",
    "    for power, bit in zip(power_tree,bits):\n",
    "        if bit:\n",
    "            result = (result * power) % mod\n",
    "    return result\n"
   ]
  },
  {
   "cell_type": "code",
   "execution_count": 4,
   "metadata": {},
   "outputs": [
    {
     "name": "stdout",
     "output_type": "stream",
     "text": [
      "mod_power_test...\n",
      "ok\n"
     ]
    }
   ],
   "source": [
    "import random\n",
    "def mod_power_test():\n",
    "    print(\"mod_power_test...\")\n",
    "    for i in range(1_000):\n",
    "        base = random.randint(100,100_000)\n",
    "        exp = random.randint(100,100_000)\n",
    "        mod = random.randint(10,10_000)\n",
    "        if mod_power(base,exp,mod) != ((base ** exp) % mod):\n",
    "            print(f\"failed for {base}, {exp}, {mod}\")\n",
    "            Exception(\"Incorrect result\")\n",
    "    print(\"ok\")\n",
    "mod_power_test()\n"
   ]
  },
  {
   "cell_type": "markdown",
   "metadata": {},
   "source": [
    "# [Diffie–Hellman key exchange](https://en.wikipedia.org/wiki/Diffie%E2%80%93Hellman_key_exchange)\n",
    "Assures safe key exchange between two parties.\n",
    "\n",
    "Algorithm looks as follows:\n",
    "\n",
    "1. Alice and Bob publicly agree to use a modulus `p = 23` and base `g = 5` (which is a primitive root modulo 23).\n",
    "\n",
    "2. Alice chooses a secret integer `a = 4`, then sends Bob `A = g*a mod p`\n",
    "    \n",
    "    `A = 54 mod 23 = 4`\n",
    "\n",
    "3. Bob chooses a secret integer `b = 3`, then sends Alice `B = g*b mod p`\n",
    "\n",
    "    `B = 53 mod 23 = 10`\n",
    "\n",
    "4. Alice computes `s = B*a mod p`\n",
    "\n",
    "    `s = 104 mod 23 = 18`\n",
    "\n",
    "5. Bob computes `s = A*b mod p`\n",
    "\n",
    "    `s = 43 mod 23 = 18`\n",
    "\n",
    "6.Alice and Bob now share a secret (the number 18).\n"
   ]
  },
  {
   "cell_type": "markdown",
   "metadata": {},
   "source": [
    "# Inverse modulo power \n",
    "To perform [RSA](https://en.wikipedia.org/wiki/RSA_(cryptosystem)) algorithm special operation is used to determine [modular multiplicative inverse](https://en.wikipedia.org/wiki/Modular_multiplicative_inverse) of specified value. To perform this operation [Extended Euclidean algorithm](https://en.wikipedia.org/wiki/Extended_Euclidean_algorithm) is used.\n",
    "Function below implements extended euclidean algorithm to solve for d: e * d mod fi(n) = 1"
   ]
  },
  {
   "cell_type": "code",
   "execution_count": 5,
   "metadata": {},
   "outputs": [
    {
     "name": "stdout",
     "output_type": "stream",
     "text": [
      "q = 1, r  = [10, 7] s = [0, 1]\n",
      "q = 2, r  = [7, 3] s = [1, 9]\n",
      "(1, 7)\n"
     ]
    }
   ],
   "source": [
    "def modular_multiplicative_inverse(a:uint64, b:uint64):\n",
    "    # q = (0,0)\n",
    "    r = [a,b]\n",
    "    s = [1,0]\n",
    "    if a < b :\n",
    "        r = [b,a]\n",
    "        s = [0,1]\n",
    "    while True:\n",
    "        \n",
    "        if r[1] == 1:\n",
    "            return (r[1], abs(s[1]))\n",
    "                \n",
    "        elif r[1] == 0:\n",
    "            return None\n",
    "        \n",
    "        q = r[0] // r[1]\n",
    "        \n",
    "        print(f\"q = {q}, r  = {r} s = {s}\")\n",
    "        \n",
    "        temp_r = r[0] - (r[1] * q)\n",
    "        temp_s = s[0] - (s[1] * q)\n",
    "        \n",
    "        if temp_s < 0:\n",
    "            temp_s += b\n",
    "        \n",
    "        r[0] = r[1]\n",
    "        s[0] = s[1]\n",
    "        \n",
    "        r[1] = temp_r\n",
    "        s[1] = temp_s\n",
    "        \n",
    "        \n",
    "# example (7 * x) mode 10 = 1\n",
    "print(modular_multiplicative_inverse(a = 7, b = 10))\n"
   ]
  },
  {
   "cell_type": "markdown",
   "metadata": {},
   "source": [
    "# RSA \n",
    "Is a public-key cryptosystem that is widely used for secure data transmission, The acronym \"RSA\" comes from the surnames of Ron Rivest, Adi Shamir and Leonard Adleman.\n",
    "In a public-key cryptosystem, the encryption key is public and distinct from the decryption key, which is kept secret (private). An RSA user creates and publishes a public key based on two large prime numbers, along with an auxiliary value. The prime numbers are kept secret. Messages can be encrypted by anyone, via the public key, but can only be decoded by someone who knows the prime numbers.\n",
    "\n",
    "## Key Generation\n",
    "1. Chose two distinct prime numbers `p`, `q`, both should be keep as a secret\n",
    "2. Compute `n = pq`, `n` is a part of public key, length of `n` in bits represents key length \n",
    "3. Compute `fi(n)` where `fi(n) = loves_common_multiple(p-1 , q-1)` `fi(n)` should be kept as a secret\n",
    "4. Choose an integer `e` such that `1 < e < λ(n)` and `gde(e, λ(n)) = 1`; that is, `e` and `λ(n)` are co-primes, `e` is released as part of the public key.\n",
    "Usually `e` is chosen to be `65537`   \n",
    "5. Determine `d` as `d ≡ e^−1 (mod λ(n))`; that is, `d` is the modular multiplicative inverse of `e` modulo `λ(n)`, in other words `(d*e) mod fi(n) = 1`, d is kept secret as the private key exponent.\n",
    "\n",
    "## RSA does not prevent \"man in the middle\" attacks"
   ]
  }
 ],
 "metadata": {
  "interpreter": {
   "hash": "5b3521386b79ae8a71fb6b122c8060f20d899f82a7bb4ecd5817dc5576419c14"
  },
  "kernelspec": {
   "display_name": "Python 3.8.8rc1 64-bit",
   "language": "python",
   "name": "python3"
  },
  "language_info": {
   "codemirror_mode": {
    "name": "ipython",
    "version": 3
   },
   "file_extension": ".py",
   "mimetype": "text/x-python",
   "name": "python",
   "nbconvert_exporter": "python",
   "pygments_lexer": "ipython3",
   "version": "3.8.8"
  },
  "orig_nbformat": 4
 },
 "nbformat": 4,
 "nbformat_minor": 2
}
