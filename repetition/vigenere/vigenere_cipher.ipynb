{
 "cells": [
  {
   "cell_type": "markdown",
   "metadata": {},
   "source": [
    "# [Vigenère cipher](https://en.wikipedia.org/wiki/Vigen%C3%A8re_cipher)\n",
    "Complication over Cesar cipher, Vigenère cipher uses number of different cesar ciphers, to encode each letter of the message with different cesar cipher.\n",
    "To accomplish that special password is required, password determines the shifts used for each letter in message.\n",
    " "
   ]
  },
  {
   "cell_type": "code",
   "execution_count": 1,
   "metadata": {},
   "outputs": [],
   "source": [
    "LATIN_LETTERS = \"abcdefghijklmnopqrstuvwxyz\"\n",
    "FULL_LATIN_LETTERS=\"abcdefghijklmnopqrstuvwxyzABCDEFGHIJKLMNOPQRSTUVWXYZ\"\n",
    "FULL_LATIN_LETTERS_W_NUMBERS=\"0123456789abcdefghijklmnopqrstuvwxyzABCDEFGHIJKLMNOPQRSTUVWXYZ\""
   ]
  },
  {
   "cell_type": "code",
   "execution_count": 6,
   "metadata": {},
   "outputs": [
    {
     "name": "stdout",
     "output_type": "stream",
     "text": [
      "LXfOPVEfRNhR\n"
     ]
    }
   ],
   "source": [
    "def shift_letter(letter:str,alphabet:str,shift:int)->str:\n",
    "    \"\"\"encrypts one letter using specified Cesar cipher\n",
    "\n",
    "    Args:\n",
    "        letter (str): letter to encrypt\n",
    "        alphabet (str): alfabet used\n",
    "        shift (int): shift of used Cesar cipher\n",
    "\n",
    "    Returns:\n",
    "        str: cipher-letter\n",
    "    \"\"\"\n",
    "    if letter in alphabet:\n",
    "        position = alphabet.find(letter)\n",
    "        shifted_position = position + shift \n",
    "        if shifted_position >= 0 and shifted_position < len(alphabet):\n",
    "            return alphabet[shifted_position]\n",
    "        elif shifted_position < 0:\n",
    "            return alphabet[shifted_position + len(alphabet)]\n",
    "        elif shifted_position >= len(alphabet):\n",
    "            return alphabet[shifted_position - len(alphabet)]\n",
    "    else:\n",
    "        return letter\n",
    "\n",
    "def encrypt(message:str,key:str,alphabet:str)->str:\n",
    "    \"\"\"generates cipher-text using vigenere cipher\n",
    "\n",
    "    Args:\n",
    "        message (str): message to encrypt\n",
    "        key (str): key used to find specific Cesar cipher used for each letter in message \n",
    "        alphabet (str): alfabet used\n",
    "\n",
    "    Returns:\n",
    "        str: cipher-text\n",
    "    \"\"\"\n",
    "    cipher_text :str = \"\"\n",
    "    for id,letter in enumerate(message):\n",
    "        shift = id % len(key)\n",
    "        current_key_letter = key[shift]\n",
    "        shift = alphabet.find(current_key_letter)\n",
    "        cipher_text += shift_letter(letter,alphabet,shift) \n",
    "    \n",
    "    return cipher_text\n",
    "print(encrypt(\"attackatdawn\",\"LEMON\",FULL_LATIN_LETTERS))"
   ]
  },
  {
   "cell_type": "markdown",
   "metadata": {},
   "source": [
    "[Coincidence Attack](https://www.nku.edu/~christensen/1402%20Friedman%20test%202.pdf),  "
   ]
  }
 ],
 "metadata": {
  "interpreter": {
   "hash": "5b3521386b79ae8a71fb6b122c8060f20d899f82a7bb4ecd5817dc5576419c14"
  },
  "kernelspec": {
   "display_name": "Python 3.8.8rc1 64-bit",
   "language": "python",
   "name": "python3"
  },
  "language_info": {
   "codemirror_mode": {
    "name": "ipython",
    "version": 3
   },
   "file_extension": ".py",
   "mimetype": "text/x-python",
   "name": "python",
   "nbconvert_exporter": "python",
   "pygments_lexer": "ipython3",
   "version": "3.8.8"
  },
  "orig_nbformat": 4
 },
 "nbformat": 4,
 "nbformat_minor": 2
}
