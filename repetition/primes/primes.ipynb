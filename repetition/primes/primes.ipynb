{
 "cells": [
  {
   "cell_type": "code",
   "execution_count": 4,
   "metadata": {},
   "outputs": [],
   "source": [
    "import math"
   ]
  },
  {
   "cell_type": "markdown",
   "metadata": {},
   "source": [
    "# Prime numbers a backbone of cryptography\n",
    "Used in RSA cipher to ensure safety of encryption\n",
    "\n",
    "# below represented is brute force approach to determine if number is prime\n"
   ]
  },
  {
   "cell_type": "code",
   "execution_count": 12,
   "metadata": {},
   "outputs": [
    {
     "name": "stdout",
     "output_type": "stream",
     "text": [
      "i = 0 is prime: True\n",
      "i = 1 is prime: True\n",
      "i = 2 is prime: True\n",
      "i = 3 is prime: True\n",
      "i = 4 is prime: False\n",
      "i = 5 is prime: True\n",
      "i = 6 is prime: False\n",
      "i = 7 is prime: True\n",
      "i = 8 is prime: False\n",
      "i = 9 is prime: False\n",
      "i = 10 is prime: False\n",
      "i = 11 is prime: True\n",
      "i = 12 is prime: False\n",
      "i = 13 is prime: True\n",
      "i = 14 is prime: False\n",
      "i = 15 is prime: False\n",
      "i = 16 is prime: False\n",
      "i = 17 is prime: True\n",
      "i = 18 is prime: False\n",
      "i = 19 is prime: True\n",
      "i = 20 is prime: False\n",
      "i = 21 is prime: False\n",
      "i = 22 is prime: False\n",
      "i = 23 is prime: True\n",
      "i = 24 is prime: False\n",
      "i = 25 is prime: False\n",
      "i = 26 is prime: False\n",
      "i = 27 is prime: False\n",
      "i = 28 is prime: False\n",
      "i = 29 is prime: True\n"
     ]
    }
   ],
   "source": [
    "def brute_force_prime(number:int)->bool:\n",
    "    limit = math.sqrt(number)\n",
    "    \n",
    "    for i in range(2,int(limit) + 1):\n",
    "        if number % i == 0:\n",
    "            return False\n",
    "    return True\n",
    "\n",
    "for i in range(30):\n",
    "    print(f\"i = {i} is prime: {brute_force_prime(i)}\")"
   ]
  },
  {
   "cell_type": "markdown",
   "metadata": {},
   "source": [
    "# Mersenne numbers\n",
    "\n",
    "In mathematics, a Mersenne prime is a prime number that is one less than a power of two. That is, it is a prime number of the form `M = 2^n − 1` for some integer `n`. \n",
    "\n",
    "# Lucas Lehmer primes\n"
   ]
  }
 ],
 "metadata": {
  "interpreter": {
   "hash": "5b3521386b79ae8a71fb6b122c8060f20d899f82a7bb4ecd5817dc5576419c14"
  },
  "kernelspec": {
   "display_name": "Python 3.8.8rc1 64-bit",
   "language": "python",
   "name": "python3"
  },
  "language_info": {
   "codemirror_mode": {
    "name": "ipython",
    "version": 3
   },
   "file_extension": ".py",
   "mimetype": "text/x-python",
   "name": "python",
   "nbconvert_exporter": "python",
   "pygments_lexer": "ipython3",
   "version": "3.8.8rc1"
  },
  "orig_nbformat": 4
 },
 "nbformat": 4,
 "nbformat_minor": 2
}
